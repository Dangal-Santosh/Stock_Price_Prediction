{
 "cells": [
  {
   "cell_type": "code",
   "execution_count": 13,
   "id": "b6a5410c",
   "metadata": {},
   "outputs": [],
   "source": [
    "# Description: this program uses artificial recurrent neural network called Long Short Term Memory (LSTM) to predict the closing stock price of a corporation (Apple Inc.) using the past 60 day stock price."
   ]
  },
  {
   "cell_type": "code",
   "execution_count": 14,
   "id": "81bfd24a",
   "metadata": {},
   "outputs": [],
   "source": [
    "import pandas as pd\n",
    "import numpy as np\n",
    "import matplotlib.pyplot as plt\n",
    "\n"
   ]
  },
  {
   "cell_type": "code",
   "execution_count": 15,
   "id": "c89595fb",
   "metadata": {},
   "outputs": [],
   "source": [
    "training_data = pd.read_csv('D:\\Data Engineering\\Data Analytics\\Stock Price Analysis\\TSLA training.csv')"
   ]
  },
  {
   "cell_type": "code",
   "execution_count": 16,
   "id": "6fd64f4b",
   "metadata": {},
   "outputs": [
    {
     "data": {
      "text/html": [
       "<div>\n",
       "<style scoped>\n",
       "    .dataframe tbody tr th:only-of-type {\n",
       "        vertical-align: middle;\n",
       "    }\n",
       "\n",
       "    .dataframe tbody tr th {\n",
       "        vertical-align: top;\n",
       "    }\n",
       "\n",
       "    .dataframe thead th {\n",
       "        text-align: right;\n",
       "    }\n",
       "</style>\n",
       "<table border=\"1\" class=\"dataframe\">\n",
       "  <thead>\n",
       "    <tr style=\"text-align: right;\">\n",
       "      <th></th>\n",
       "      <th>Date</th>\n",
       "      <th>Open</th>\n",
       "      <th>High</th>\n",
       "      <th>Low</th>\n",
       "      <th>Close</th>\n",
       "      <th>Adj Close</th>\n",
       "      <th>Volume</th>\n",
       "    </tr>\n",
       "  </thead>\n",
       "  <tbody>\n",
       "    <tr>\n",
       "      <th>0</th>\n",
       "      <td>2018-06-22</td>\n",
       "      <td>23.436001</td>\n",
       "      <td>23.483334</td>\n",
       "      <td>22.133333</td>\n",
       "      <td>22.242001</td>\n",
       "      <td>22.242001</td>\n",
       "      <td>153991500</td>\n",
       "    </tr>\n",
       "    <tr>\n",
       "      <th>1</th>\n",
       "      <td>2018-06-25</td>\n",
       "      <td>22.007999</td>\n",
       "      <td>22.564667</td>\n",
       "      <td>21.833332</td>\n",
       "      <td>22.200666</td>\n",
       "      <td>22.200666</td>\n",
       "      <td>103969500</td>\n",
       "    </tr>\n",
       "    <tr>\n",
       "      <th>2</th>\n",
       "      <td>2018-06-26</td>\n",
       "      <td>22.403334</td>\n",
       "      <td>22.903334</td>\n",
       "      <td>21.719999</td>\n",
       "      <td>22.799999</td>\n",
       "      <td>22.799999</td>\n",
       "      <td>111787500</td>\n",
       "    </tr>\n",
       "    <tr>\n",
       "      <th>3</th>\n",
       "      <td>2018-06-27</td>\n",
       "      <td>23.000000</td>\n",
       "      <td>23.386000</td>\n",
       "      <td>22.633333</td>\n",
       "      <td>22.966667</td>\n",
       "      <td>22.966667</td>\n",
       "      <td>125005500</td>\n",
       "    </tr>\n",
       "    <tr>\n",
       "      <th>4</th>\n",
       "      <td>2018-06-28</td>\n",
       "      <td>23.243999</td>\n",
       "      <td>23.801332</td>\n",
       "      <td>23.073999</td>\n",
       "      <td>23.328667</td>\n",
       "      <td>23.328667</td>\n",
       "      <td>125970000</td>\n",
       "    </tr>\n",
       "  </tbody>\n",
       "</table>\n",
       "</div>"
      ],
      "text/plain": [
       "         Date       Open       High        Low      Close  Adj Close  \\\n",
       "0  2018-06-22  23.436001  23.483334  22.133333  22.242001  22.242001   \n",
       "1  2018-06-25  22.007999  22.564667  21.833332  22.200666  22.200666   \n",
       "2  2018-06-26  22.403334  22.903334  21.719999  22.799999  22.799999   \n",
       "3  2018-06-27  23.000000  23.386000  22.633333  22.966667  22.966667   \n",
       "4  2018-06-28  23.243999  23.801332  23.073999  23.328667  23.328667   \n",
       "\n",
       "      Volume  \n",
       "0  153991500  \n",
       "1  103969500  \n",
       "2  111787500  \n",
       "3  125005500  \n",
       "4  125970000  "
      ]
     },
     "execution_count": 16,
     "metadata": {},
     "output_type": "execute_result"
    }
   ],
   "source": [
    "training_data.head()"
   ]
  },
  {
   "cell_type": "code",
   "execution_count": 17,
   "id": "d6fe1649",
   "metadata": {},
   "outputs": [
    {
     "data": {
      "text/plain": [
       "(1257, 7)"
      ]
     },
     "execution_count": 17,
     "metadata": {},
     "output_type": "execute_result"
    }
   ],
   "source": [
    "training_data.shape"
   ]
  },
  {
   "cell_type": "code",
   "execution_count": 18,
   "id": "89cc3209",
   "metadata": {},
   "outputs": [
    {
     "name": "stdout",
     "output_type": "stream",
     "text": [
      "<class 'pandas.core.frame.DataFrame'>\n",
      "RangeIndex: 1257 entries, 0 to 1256\n",
      "Data columns (total 7 columns):\n",
      " #   Column     Non-Null Count  Dtype  \n",
      "---  ------     --------------  -----  \n",
      " 0   Date       1257 non-null   object \n",
      " 1   Open       1257 non-null   float64\n",
      " 2   High       1257 non-null   float64\n",
      " 3   Low        1257 non-null   float64\n",
      " 4   Close      1257 non-null   float64\n",
      " 5   Adj Close  1257 non-null   float64\n",
      " 6   Volume     1257 non-null   int64  \n",
      "dtypes: float64(5), int64(1), object(1)\n",
      "memory usage: 68.9+ KB\n"
     ]
    }
   ],
   "source": [
    "training_data.info()"
   ]
  },
  {
   "cell_type": "code",
   "execution_count": 19,
   "id": "dfb5ad84",
   "metadata": {},
   "outputs": [],
   "source": [
    "training_set = training_data.iloc[:, 1:2].values"
   ]
  },
  {
   "cell_type": "code",
   "execution_count": 20,
   "id": "f0c7c6ee",
   "metadata": {},
   "outputs": [
    {
     "data": {
      "text/plain": [
       "((1257, 1), (1257, 7))"
      ]
     },
     "execution_count": 20,
     "metadata": {},
     "output_type": "execute_result"
    }
   ],
   "source": [
    "training_set.shape, training_data.shape"
   ]
  },
  {
   "cell_type": "code",
   "execution_count": 21,
   "id": "72f538fe",
   "metadata": {},
   "outputs": [],
   "source": [
    "# Feature Scaling\n",
    "# We scale all of the values in the training set to be between 0 and 1 inclusive using the MinMaxScaler class from scikit-learn.\n",
    "from sklearn.preprocessing import MinMaxScaler\n",
    "sc = MinMaxScaler(feature_range = (0, 1))\n",
    "training_set_scaled = sc.fit_transform(training_set)"
   ]
  },
  {
   "cell_type": "code",
   "execution_count": 22,
   "id": "ac88e333",
   "metadata": {},
   "outputs": [
    {
     "data": {
      "text/plain": [
       "array([[0.02844958],\n",
       "       [0.02487418],\n",
       "       [0.02586401],\n",
       "       ...,\n",
       "       [0.61804892],\n",
       "       [0.62450863],\n",
       "       [0.65863512]])"
      ]
     },
     "execution_count": 22,
     "metadata": {},
     "output_type": "execute_result"
    }
   ],
   "source": [
    "training_set_scaled"
   ]
  },
  {
   "cell_type": "code",
   "execution_count": 23,
   "id": "6e3be568",
   "metadata": {},
   "outputs": [],
   "source": [
    "# Creating a data structure with 60 timesteps and 1 output\n",
    "# The RNN will look at the past 60 days of stock prices to predict the next day.\n",
    "# We create a data structure with 60 timesteps and 1 output.\n",
    "# So for each element of training set, we have 60 previous training set elements.\n",
    "# We need to do this because each stock price of a day is based on the previous day's stock price.\n",
    "X_train = []\n",
    "y_train = []\n",
    "for i in range(60, 1257):  # Change upper limit to 1257\n",
    "    X_train.append(training_set_scaled[i-60:i, 0])\n",
    "    y_train.append(training_set_scaled[i, 0])\n",
    "\n",
    "# Convert the X_train and y_train to numpy arrays\n",
    "X_train = np.array(X_train)\n",
    "y_train = np.array(y_train)\n"
   ]
  },
  {
   "cell_type": "code",
   "execution_count": 24,
   "id": "250eda33",
   "metadata": {},
   "outputs": [
    {
     "data": {
      "text/plain": [
       "array([[0.02844958, 0.02487418, 0.02586401, ..., 0.01784692, 0.01797044,\n",
       "        0.0181841 ],\n",
       "       [0.02487418, 0.02586401, 0.02735793, ..., 0.01797044, 0.0181841 ,\n",
       "        0.0192941 ],\n",
       "       [0.02586401, 0.02735793, 0.02796885, ..., 0.0181841 , 0.0192941 ,\n",
       "        0.01659336],\n",
       "       ...,\n",
       "       [0.46877374, 0.45865846, 0.44961983, ..., 0.60450345, 0.62117864,\n",
       "        0.59170915],\n",
       "       [0.45865846, 0.44961983, 0.4565553 , ..., 0.62117864, 0.59170915,\n",
       "        0.61804892],\n",
       "       [0.44961983, 0.4565553 , 0.45049616, ..., 0.59170915, 0.61804892,\n",
       "        0.62450863]])"
      ]
     },
     "execution_count": 24,
     "metadata": {},
     "output_type": "execute_result"
    }
   ],
   "source": [
    "X_train"
   ]
  },
  {
   "cell_type": "code",
   "execution_count": 25,
   "id": "9dbe50cf",
   "metadata": {},
   "outputs": [
    {
     "data": {
      "text/plain": [
       "(1197, 60)"
      ]
     },
     "execution_count": 25,
     "metadata": {},
     "output_type": "execute_result"
    }
   ],
   "source": [
    "X_train.shape"
   ]
  },
  {
   "cell_type": "code",
   "execution_count": 26,
   "id": "f81eb940",
   "metadata": {},
   "outputs": [],
   "source": [
    "# Reshaping the dataset\n",
    "# We need to reshape the data to add a new dimension to it, which is required for the LSTM's input.\n",
    "# The new dimension will be the number of predictors. The number of predictors is 1.\n",
    "# The reshaping is done using numpy.reshape() method.\n",
    "X_train = X_train.reshape(1197, 60, 1)"
   ]
  },
  {
   "cell_type": "code",
   "execution_count": 27,
   "id": "835ee1d3",
   "metadata": {},
   "outputs": [
    {
     "data": {
      "text/plain": [
       "(1197, 60, 1)"
      ]
     },
     "execution_count": 27,
     "metadata": {},
     "output_type": "execute_result"
    }
   ],
   "source": [
    "X_train.shape"
   ]
  },
  {
   "cell_type": "markdown",
   "id": "ce0995b2",
   "metadata": {},
   "source": [
    "# Bulding LSTM"
   ]
  },
  {
   "cell_type": "code",
   "execution_count": 28,
   "id": "38a66d6a",
   "metadata": {},
   "outputs": [],
   "source": [
    "import tensorflow as tf"
   ]
  },
  {
   "cell_type": "code",
   "execution_count": 29,
   "id": "574d786e",
   "metadata": {},
   "outputs": [
    {
     "data": {
      "text/plain": [
       "'2.13.0'"
      ]
     },
     "execution_count": 29,
     "metadata": {},
     "output_type": "execute_result"
    }
   ],
   "source": [
    "tf.__version__"
   ]
  },
  {
   "cell_type": "code",
   "execution_count": 30,
   "id": "dfd48734",
   "metadata": {},
   "outputs": [],
   "source": [
    "# Part 2 - Building the RNN\n",
    "# Importing the Keras libraries and packages\n",
    "from keras.models import Sequential\n",
    "from keras.layers import Dense\n",
    "from keras.layers import LSTM\n",
    "from keras.layers import Dropout"
   ]
  },
  {
   "cell_type": "code",
   "execution_count": 31,
   "id": "0398c7ec",
   "metadata": {},
   "outputs": [],
   "source": [
    "# Initialising the RNN\n",
    "# We initialise the RNN as a sequence of layers.\n",
    "# We use the Sequential class from the keras.models module for this.\n",
    "model = tf.keras.models.Sequential()"
   ]
  },
  {
   "cell_type": "code",
   "execution_count": 32,
   "id": "fb0a792f",
   "metadata": {},
   "outputs": [],
   "source": [
    "# Adding the first LSTM layer and some Dropout regularisation\n",
    "# We add the first LSTM layer and some Dropout regularisation to prevent overfitting.\n",
    "model.add(tf.keras.layers.LSTM(units = 60,activation='relu', return_sequences = True, input_shape = (60, 1)))\n",
    "\n",
    "# Dropout Regularisation\n",
    "# Dropout is a regularization technique for reducing overfitting in neural networks by preventing complex co-adaptations on training data.\n",
    "model.add(tf.keras.layers.Dropout(0.2))\n",
    "\n",
    "# Adding a second LSTM layer and some Dropout regularisation\n",
    "model.add(tf.keras.layers.LSTM(units = 60,activation='relu', return_sequences = True))\n",
    "model.add(tf.keras.layers.Dropout(0.2))\n",
    "\n",
    "# Adding a third LSTM layer and some Dropout regularisation\n",
    "model.add(tf.keras.layers.LSTM(units = 80,activation='relu', return_sequences = True))\n",
    "model.add(tf.keras.layers.Dropout(0.2))\n",
    "\n",
    "# Adding a fourth LSTM layer and some Dropout regularisation\n",
    "model.add(tf.keras.layers.LSTM(units = 120,activation='relu'))\n",
    "model.add(tf.keras.layers.Dropout(0.2))"
   ]
  },
  {
   "cell_type": "code",
   "execution_count": 33,
   "id": "b7ac54c9",
   "metadata": {},
   "outputs": [],
   "source": [
    "# Adding the output layer\n",
    "# The output layer is a fully connected layer of 1 node.\n",
    "# We use the Dense class from the keras.layers module for this.\n",
    "model.add(tf.keras.layers.Dense(units = 1))\n"
   ]
  },
  {
   "cell_type": "code",
   "execution_count": 34,
   "id": "bfd65a45",
   "metadata": {},
   "outputs": [
    {
     "name": "stdout",
     "output_type": "stream",
     "text": [
      "Model: \"sequential_1\"\n",
      "_________________________________________________________________\n",
      " Layer (type)                Output Shape              Param #   \n",
      "=================================================================\n",
      " lstm_4 (LSTM)               (None, 60, 60)            14880     \n",
      "                                                                 \n",
      " dropout_4 (Dropout)         (None, 60, 60)            0         \n",
      "                                                                 \n",
      " lstm_5 (LSTM)               (None, 60, 60)            29040     \n",
      "                                                                 \n",
      " dropout_5 (Dropout)         (None, 60, 60)            0         \n",
      "                                                                 \n",
      " lstm_6 (LSTM)               (None, 60, 80)            45120     \n",
      "                                                                 \n",
      " dropout_6 (Dropout)         (None, 60, 80)            0         \n",
      "                                                                 \n",
      " lstm_7 (LSTM)               (None, 120)               96480     \n",
      "                                                                 \n",
      " dropout_7 (Dropout)         (None, 120)               0         \n",
      "                                                                 \n",
      " dense_1 (Dense)             (None, 1)                 121       \n",
      "                                                                 \n",
      "=================================================================\n",
      "Total params: 185641 (725.16 KB)\n",
      "Trainable params: 185641 (725.16 KB)\n",
      "Non-trainable params: 0 (0.00 Byte)\n",
      "_________________________________________________________________\n"
     ]
    }
   ],
   "source": [
    "model.summary()"
   ]
  },
  {
   "cell_type": "code",
   "execution_count": 35,
   "id": "7e0fb330",
   "metadata": {},
   "outputs": [],
   "source": [
    "# Compiling the RNN\n",
    "model.compile(optimizer = 'adam', loss = 'mean_squared_error')"
   ]
  },
  {
   "cell_type": "code",
   "execution_count": 36,
   "id": "b67c9226",
   "metadata": {},
   "outputs": [
    {
     "name": "stdout",
     "output_type": "stream",
     "text": [
      "Epoch 1/100\n",
      "38/38 [==============================] - 11s 134ms/step - loss: 0.0585\n",
      "Epoch 2/100\n",
      "38/38 [==============================] - 5s 128ms/step - loss: 0.0092\n",
      "Epoch 3/100\n",
      "38/38 [==============================] - 5s 131ms/step - loss: 0.0067\n",
      "Epoch 4/100\n",
      "38/38 [==============================] - 5s 139ms/step - loss: 0.0058\n",
      "Epoch 5/100\n",
      "38/38 [==============================] - 5s 133ms/step - loss: 0.0065\n",
      "Epoch 6/100\n",
      "38/38 [==============================] - 6s 144ms/step - loss: 0.0060\n",
      "Epoch 7/100\n",
      "38/38 [==============================] - 6s 149ms/step - loss: 0.0053\n",
      "Epoch 8/100\n",
      "38/38 [==============================] - 5s 134ms/step - loss: 0.0062\n",
      "Epoch 9/100\n",
      "38/38 [==============================] - 6s 146ms/step - loss: 0.0045\n",
      "Epoch 10/100\n",
      "38/38 [==============================] - 7s 172ms/step - loss: 0.0050\n",
      "Epoch 11/100\n",
      "38/38 [==============================] - 6s 145ms/step - loss: 0.0041\n",
      "Epoch 12/100\n",
      "38/38 [==============================] - 6s 152ms/step - loss: 0.0046\n",
      "Epoch 13/100\n",
      "38/38 [==============================] - 6s 151ms/step - loss: 0.0046\n",
      "Epoch 14/100\n",
      "38/38 [==============================] - 5s 141ms/step - loss: 0.0042\n",
      "Epoch 15/100\n",
      "38/38 [==============================] - 6s 153ms/step - loss: 0.0039\n",
      "Epoch 16/100\n",
      "38/38 [==============================] - 6s 147ms/step - loss: 0.0038\n",
      "Epoch 17/100\n",
      "38/38 [==============================] - 5s 138ms/step - loss: 0.0040\n",
      "Epoch 18/100\n",
      "38/38 [==============================] - 6s 152ms/step - loss: 0.0036\n",
      "Epoch 19/100\n",
      "38/38 [==============================] - 6s 145ms/step - loss: 0.0046\n",
      "Epoch 20/100\n",
      "38/38 [==============================] - 5s 141ms/step - loss: 0.0036\n",
      "Epoch 21/100\n",
      "38/38 [==============================] - 6s 153ms/step - loss: 0.0035\n",
      "Epoch 22/100\n",
      "38/38 [==============================] - 5s 142ms/step - loss: 0.0033\n",
      "Epoch 23/100\n",
      "38/38 [==============================] - 5s 144ms/step - loss: 0.0031\n",
      "Epoch 24/100\n",
      "38/38 [==============================] - 6s 154ms/step - loss: 0.0034\n",
      "Epoch 25/100\n",
      "38/38 [==============================] - 6s 146ms/step - loss: 0.0028\n",
      "Epoch 26/100\n",
      "38/38 [==============================] - 6s 150ms/step - loss: 0.0031\n",
      "Epoch 27/100\n",
      "38/38 [==============================] - 6s 152ms/step - loss: 0.0030\n",
      "Epoch 28/100\n",
      "38/38 [==============================] - 5s 138ms/step - loss: 0.0028\n",
      "Epoch 29/100\n",
      "38/38 [==============================] - 6s 149ms/step - loss: 0.0030\n",
      "Epoch 30/100\n",
      "38/38 [==============================] - 6s 152ms/step - loss: 0.0033\n",
      "Epoch 31/100\n",
      "38/38 [==============================] - 5s 135ms/step - loss: 0.0030\n",
      "Epoch 32/100\n",
      "38/38 [==============================] - 6s 152ms/step - loss: 0.0025\n",
      "Epoch 33/100\n",
      "38/38 [==============================] - 6s 149ms/step - loss: 0.0031\n",
      "Epoch 34/100\n",
      "38/38 [==============================] - 5s 140ms/step - loss: 0.0027\n",
      "Epoch 35/100\n",
      "38/38 [==============================] - 6s 152ms/step - loss: 0.0027\n",
      "Epoch 36/100\n",
      "38/38 [==============================] - 6s 153ms/step - loss: 0.0026\n",
      "Epoch 37/100\n",
      "38/38 [==============================] - 6s 152ms/step - loss: 0.0026\n",
      "Epoch 38/100\n",
      "38/38 [==============================] - 6s 154ms/step - loss: 0.0027\n",
      "Epoch 39/100\n",
      "38/38 [==============================] - 5s 144ms/step - loss: 0.0026\n",
      "Epoch 40/100\n",
      "38/38 [==============================] - 5s 144ms/step - loss: 0.0022\n",
      "Epoch 41/100\n",
      "38/38 [==============================] - 6s 156ms/step - loss: 0.0023\n",
      "Epoch 42/100\n",
      "38/38 [==============================] - 5s 143ms/step - loss: 0.0025\n",
      "Epoch 43/100\n",
      "38/38 [==============================] - 6s 148ms/step - loss: 0.0022\n",
      "Epoch 44/100\n",
      "38/38 [==============================] - 6s 155ms/step - loss: 0.0022\n",
      "Epoch 45/100\n",
      "38/38 [==============================] - 5s 138ms/step - loss: 0.0024\n",
      "Epoch 46/100\n",
      "38/38 [==============================] - 6s 149ms/step - loss: 0.0024\n",
      "Epoch 47/100\n",
      "38/38 [==============================] - 6s 155ms/step - loss: 0.0020\n",
      "Epoch 48/100\n",
      "38/38 [==============================] - 5s 139ms/step - loss: 0.0022\n",
      "Epoch 49/100\n",
      "38/38 [==============================] - 6s 157ms/step - loss: 0.0021\n",
      "Epoch 50/100\n",
      "38/38 [==============================] - 6s 151ms/step - loss: 0.0024\n",
      "Epoch 51/100\n",
      "38/38 [==============================] - 5s 137ms/step - loss: 0.0025\n",
      "Epoch 52/100\n",
      "38/38 [==============================] - 6s 152ms/step - loss: 0.0025\n",
      "Epoch 53/100\n",
      "38/38 [==============================] - 6s 158ms/step - loss: 0.0024\n",
      "Epoch 54/100\n",
      "38/38 [==============================] - 6s 151ms/step - loss: 0.0023\n",
      "Epoch 55/100\n",
      "38/38 [==============================] - 6s 155ms/step - loss: 0.0027\n",
      "Epoch 56/100\n",
      "38/38 [==============================] - 5s 143ms/step - loss: 0.0023\n",
      "Epoch 57/100\n",
      "38/38 [==============================] - 6s 150ms/step - loss: 0.0024\n",
      "Epoch 58/100\n",
      "38/38 [==============================] - 6s 158ms/step - loss: 0.0022\n",
      "Epoch 59/100\n",
      "38/38 [==============================] - 5s 144ms/step - loss: 0.0022\n",
      "Epoch 60/100\n",
      "38/38 [==============================] - 6s 156ms/step - loss: 0.0019\n",
      "Epoch 61/100\n",
      "38/38 [==============================] - 6s 153ms/step - loss: 0.0022\n",
      "Epoch 62/100\n",
      "38/38 [==============================] - 6s 152ms/step - loss: 0.0019\n",
      "Epoch 63/100\n",
      "38/38 [==============================] - 6s 153ms/step - loss: 0.0020\n",
      "Epoch 64/100\n",
      "38/38 [==============================] - 6s 147ms/step - loss: 0.0019\n",
      "Epoch 65/100\n",
      "38/38 [==============================] - 5s 142ms/step - loss: 0.0019\n",
      "Epoch 66/100\n",
      "38/38 [==============================] - 6s 154ms/step - loss: 0.0021\n",
      "Epoch 67/100\n",
      "38/38 [==============================] - 6s 145ms/step - loss: 0.0017\n",
      "Epoch 68/100\n",
      "38/38 [==============================] - 6s 148ms/step - loss: 0.0018\n",
      "Epoch 69/100\n",
      "38/38 [==============================] - 6s 153ms/step - loss: 0.0017\n",
      "Epoch 70/100\n",
      "38/38 [==============================] - 5s 141ms/step - loss: 0.0020\n",
      "Epoch 71/100\n",
      "38/38 [==============================] - 6s 148ms/step - loss: 0.0020\n",
      "Epoch 72/100\n",
      "38/38 [==============================] - 6s 157ms/step - loss: 0.0018\n",
      "Epoch 73/100\n",
      "38/38 [==============================] - 5s 141ms/step - loss: 0.0018\n",
      "Epoch 74/100\n",
      "38/38 [==============================] - 6s 149ms/step - loss: 0.0020\n",
      "Epoch 75/100\n",
      "38/38 [==============================] - 6s 153ms/step - loss: 0.0018\n",
      "Epoch 76/100\n",
      "38/38 [==============================] - 5s 139ms/step - loss: 0.0018\n",
      "Epoch 77/100\n",
      "38/38 [==============================] - 6s 152ms/step - loss: 0.0018\n",
      "Epoch 78/100\n",
      "38/38 [==============================] - 6s 150ms/step - loss: 0.0018\n",
      "Epoch 79/100\n",
      "38/38 [==============================] - 5s 139ms/step - loss: 0.0020\n",
      "Epoch 80/100\n",
      "38/38 [==============================] - 6s 154ms/step - loss: 0.0018\n",
      "Epoch 81/100\n",
      "38/38 [==============================] - 6s 148ms/step - loss: 0.0017\n",
      "Epoch 82/100\n",
      "38/38 [==============================] - 5s 140ms/step - loss: 0.0019\n",
      "Epoch 83/100\n",
      "38/38 [==============================] - 6s 161ms/step - loss: 0.0019\n",
      "Epoch 84/100\n",
      "38/38 [==============================] - 6s 149ms/step - loss: 0.0021\n",
      "Epoch 85/100\n",
      "38/38 [==============================] - 5s 144ms/step - loss: 0.0018\n",
      "Epoch 86/100\n",
      "38/38 [==============================] - 6s 153ms/step - loss: 0.0018\n",
      "Epoch 87/100\n",
      "38/38 [==============================] - 6s 147ms/step - loss: 0.0017\n",
      "Epoch 88/100\n",
      "38/38 [==============================] - 6s 146ms/step - loss: 0.0020\n",
      "Epoch 89/100\n",
      "38/38 [==============================] - 6s 154ms/step - loss: 0.0019\n",
      "Epoch 90/100\n",
      "38/38 [==============================] - 5s 142ms/step - loss: 0.0017\n",
      "Epoch 91/100\n",
      "38/38 [==============================] - 6s 151ms/step - loss: 0.0018\n",
      "Epoch 92/100\n",
      "38/38 [==============================] - 6s 152ms/step - loss: 0.0016\n",
      "Epoch 93/100\n",
      "38/38 [==============================] - 5s 137ms/step - loss: 0.0018\n",
      "Epoch 94/100\n",
      "38/38 [==============================] - 6s 153ms/step - loss: 0.0017\n",
      "Epoch 95/100\n",
      "38/38 [==============================] - 6s 159ms/step - loss: 0.0018\n",
      "Epoch 96/100\n",
      "38/38 [==============================] - 5s 137ms/step - loss: 0.0016\n",
      "Epoch 97/100\n",
      "38/38 [==============================] - 6s 153ms/step - loss: 0.0017\n",
      "Epoch 98/100\n",
      "38/38 [==============================] - 6s 149ms/step - loss: 0.0019\n",
      "Epoch 99/100\n",
      "38/38 [==============================] - 5s 139ms/step - loss: 0.0017\n",
      "Epoch 100/100\n",
      "38/38 [==============================] - 6s 154ms/step - loss: 0.0017\n"
     ]
    },
    {
     "data": {
      "text/plain": [
       "<keras.src.callbacks.History at 0x22fc2cc99c0>"
      ]
     },
     "execution_count": 36,
     "metadata": {},
     "output_type": "execute_result"
    }
   ],
   "source": [
    "model.fit(X_train, y_train, epochs = 100, batch_size = 32)"
   ]
  },
  {
   "cell_type": "code",
   "execution_count": 38,
   "id": "a58913f4",
   "metadata": {},
   "outputs": [],
   "source": [
    "# Getting the real stock price of 2017\n",
    "test_data = pd.read_csv('D:\\Data Engineering\\Data Analytics\\Stock Price Analysis\\TSLA Testing.csv')"
   ]
  },
  {
   "cell_type": "code",
   "execution_count": 39,
   "id": "8fde23a6",
   "metadata": {},
   "outputs": [
    {
     "data": {
      "text/html": [
       "<div>\n",
       "<style scoped>\n",
       "    .dataframe tbody tr th:only-of-type {\n",
       "        vertical-align: middle;\n",
       "    }\n",
       "\n",
       "    .dataframe tbody tr th {\n",
       "        vertical-align: top;\n",
       "    }\n",
       "\n",
       "    .dataframe thead th {\n",
       "        text-align: right;\n",
       "    }\n",
       "</style>\n",
       "<table border=\"1\" class=\"dataframe\">\n",
       "  <thead>\n",
       "    <tr style=\"text-align: right;\">\n",
       "      <th></th>\n",
       "      <th>Date</th>\n",
       "      <th>Open</th>\n",
       "      <th>High</th>\n",
       "      <th>Low</th>\n",
       "      <th>Close</th>\n",
       "      <th>Adj Close</th>\n",
       "      <th>Volume</th>\n",
       "    </tr>\n",
       "  </thead>\n",
       "  <tbody>\n",
       "    <tr>\n",
       "      <th>0</th>\n",
       "      <td>2022-06-22</td>\n",
       "      <td>234.503326</td>\n",
       "      <td>246.833328</td>\n",
       "      <td>233.826660</td>\n",
       "      <td>236.086670</td>\n",
       "      <td>236.086670</td>\n",
       "      <td>101107500</td>\n",
       "    </tr>\n",
       "    <tr>\n",
       "      <th>1</th>\n",
       "      <td>2022-06-23</td>\n",
       "      <td>237.906662</td>\n",
       "      <td>239.316666</td>\n",
       "      <td>228.636673</td>\n",
       "      <td>235.070007</td>\n",
       "      <td>235.070007</td>\n",
       "      <td>104202600</td>\n",
       "    </tr>\n",
       "    <tr>\n",
       "      <th>2</th>\n",
       "      <td>2022-06-24</td>\n",
       "      <td>237.470001</td>\n",
       "      <td>246.066666</td>\n",
       "      <td>236.086670</td>\n",
       "      <td>245.706665</td>\n",
       "      <td>245.706665</td>\n",
       "      <td>95770800</td>\n",
       "    </tr>\n",
       "    <tr>\n",
       "      <th>3</th>\n",
       "      <td>2022-06-27</td>\n",
       "      <td>249.366669</td>\n",
       "      <td>252.070007</td>\n",
       "      <td>242.566666</td>\n",
       "      <td>244.919998</td>\n",
       "      <td>244.919998</td>\n",
       "      <td>89178300</td>\n",
       "    </tr>\n",
       "    <tr>\n",
       "      <th>4</th>\n",
       "      <td>2022-06-28</td>\n",
       "      <td>244.483337</td>\n",
       "      <td>249.970001</td>\n",
       "      <td>232.343338</td>\n",
       "      <td>232.663330</td>\n",
       "      <td>232.663330</td>\n",
       "      <td>90391200</td>\n",
       "    </tr>\n",
       "  </tbody>\n",
       "</table>\n",
       "</div>"
      ],
      "text/plain": [
       "         Date        Open        High         Low       Close   Adj Close  \\\n",
       "0  2022-06-22  234.503326  246.833328  233.826660  236.086670  236.086670   \n",
       "1  2022-06-23  237.906662  239.316666  228.636673  235.070007  235.070007   \n",
       "2  2022-06-24  237.470001  246.066666  236.086670  245.706665  245.706665   \n",
       "3  2022-06-27  249.366669  252.070007  242.566666  244.919998  244.919998   \n",
       "4  2022-06-28  244.483337  249.970001  232.343338  232.663330  232.663330   \n",
       "\n",
       "      Volume  \n",
       "0  101107500  \n",
       "1  104202600  \n",
       "2   95770800  \n",
       "3   89178300  \n",
       "4   90391200  "
      ]
     },
     "execution_count": 39,
     "metadata": {},
     "output_type": "execute_result"
    }
   ],
   "source": [
    "test_data.head()\n",
    "\n",
    "    "
   ]
  },
  {
   "cell_type": "code",
   "execution_count": 40,
   "id": "5c0b9bbd",
   "metadata": {},
   "outputs": [
    {
     "data": {
      "text/plain": [
       "(251, 7)"
      ]
     },
     "execution_count": 40,
     "metadata": {},
     "output_type": "execute_result"
    }
   ],
   "source": [
    "test_data.shape\n"
   ]
  },
  {
   "cell_type": "code",
   "execution_count": 41,
   "id": "110db0a6",
   "metadata": {},
   "outputs": [
    {
     "name": "stdout",
     "output_type": "stream",
     "text": [
      "<class 'pandas.core.frame.DataFrame'>\n",
      "RangeIndex: 251 entries, 0 to 250\n",
      "Data columns (total 7 columns):\n",
      " #   Column     Non-Null Count  Dtype  \n",
      "---  ------     --------------  -----  \n",
      " 0   Date       251 non-null    object \n",
      " 1   Open       251 non-null    float64\n",
      " 2   High       251 non-null    float64\n",
      " 3   Low        251 non-null    float64\n",
      " 4   Close      251 non-null    float64\n",
      " 5   Adj Close  251 non-null    float64\n",
      " 6   Volume     251 non-null    int64  \n",
      "dtypes: float64(5), int64(1), object(1)\n",
      "memory usage: 13.9+ KB\n"
     ]
    }
   ],
   "source": [
    "test_data.info()"
   ]
  },
  {
   "cell_type": "code",
   "execution_count": 42,
   "id": "59d87539",
   "metadata": {},
   "outputs": [],
   "source": [
    "real_stock_price = test_data.iloc[:, 1:2].values"
   ]
  },
  {
   "cell_type": "code",
   "execution_count": 43,
   "id": "ae5645c9",
   "metadata": {},
   "outputs": [
    {
     "data": {
      "text/plain": [
       "array([[234.503326],\n",
       "       [237.906662],\n",
       "       [237.470001],\n",
       "       [249.366669],\n",
       "       [244.483337],\n",
       "       [230.5     ],\n",
       "       [224.509995],\n",
       "       [227.      ],\n",
       "       [223.      ],\n",
       "       [230.779999],\n",
       "       [233.919998],\n",
       "       [242.333328],\n",
       "       [252.103333],\n",
       "       [236.846664],\n",
       "       [225.5     ],\n",
       "       [234.896667],\n",
       "       [240.      ],\n",
       "       [244.936661],\n",
       "       [245.      ],\n",
       "       [246.78334 ],\n",
       "       [255.106674],\n",
       "       [276.220001],\n",
       "       [272.216675],\n",
       "       [266.513336],\n",
       "       [263.809998],\n",
       "       [280.066681],\n",
       "       [280.700012],\n",
       "       [301.276672],\n",
       "       [294.003326],\n",
       "       [305.      ],\n",
       "       [311.      ],\n",
       "       [302.670013],\n",
       "       [295.      ],\n",
       "       [290.293335],\n",
       "       [297.066681],\n",
       "       [296.513336],\n",
       "       [289.416656],\n",
       "       [301.786682],\n",
       "       [311.666656],\n",
       "       [303.396667],\n",
       "       [306.      ],\n",
       "       [299.      ],\n",
       "       [291.91333 ],\n",
       "       [291.453339],\n",
       "       [297.563324],\n",
       "       [302.359985],\n",
       "       [297.429993],\n",
       "       [282.829987],\n",
       "       [287.869995],\n",
       "       [280.619995],\n",
       "       [272.579987],\n",
       "       [281.070007],\n",
       "       [272.679993],\n",
       "       [273.100006],\n",
       "       [281.299988],\n",
       "       [291.670013],\n",
       "       [300.720001],\n",
       "       [292.899994],\n",
       "       [292.23999 ],\n",
       "       [301.829987],\n",
       "       [299.609985],\n",
       "       [300.089996],\n",
       "       [306.910004],\n",
       "       [308.290009],\n",
       "       [299.859985],\n",
       "       [283.089996],\n",
       "       [271.829987],\n",
       "       [283.839996],\n",
       "       [283.079987],\n",
       "       [282.76001 ],\n",
       "       [266.149994],\n",
       "       [254.5     ],\n",
       "       [250.520004],\n",
       "       [245.009995],\n",
       "       [239.440002],\n",
       "       [233.940002],\n",
       "       [223.929993],\n",
       "       [220.949997],\n",
       "       [215.330002],\n",
       "       [208.300003],\n",
       "       [224.009995],\n",
       "       [210.039993],\n",
       "       [229.5     ],\n",
       "       [219.800003],\n",
       "       [208.279999],\n",
       "       [206.419998],\n",
       "       [205.820007],\n",
       "       [210.100006],\n",
       "       [219.399994],\n",
       "       [229.770004],\n",
       "       [225.399994],\n",
       "       [226.190002],\n",
       "       [234.050003],\n",
       "       [226.039993],\n",
       "       [211.360001],\n",
       "       [222.600006],\n",
       "       [208.649994],\n",
       "       [194.020004],\n",
       "       [190.779999],\n",
       "       [189.899994],\n",
       "       [186.      ],\n",
       "       [192.770004],\n",
       "       [195.880005],\n",
       "       [191.509995],\n",
       "       [183.960007],\n",
       "       [185.050003],\n",
       "       [175.850006],\n",
       "       [168.630005],\n",
       "       [173.570007],\n",
       "       [185.059998],\n",
       "       [179.960007],\n",
       "       [184.990005],\n",
       "       [182.429993],\n",
       "       [197.080002],\n",
       "       [191.779999],\n",
       "       [189.440002],\n",
       "       [181.220001],\n",
       "       [175.029999],\n",
       "       [172.199997],\n",
       "       [173.839996],\n",
       "       [176.100006],\n",
       "       [174.869995],\n",
       "       [159.25    ],\n",
       "       [153.440002],\n",
       "       [159.639999],\n",
       "       [154.      ],\n",
       "       [146.050003],\n",
       "       [139.339996],\n",
       "       [136.      ],\n",
       "       [126.370003],\n",
       "       [117.5     ],\n",
       "       [110.349998],\n",
       "       [120.389999],\n",
       "       [119.949997],\n",
       "       [118.470001],\n",
       "       [109.110001],\n",
       "       [110.510002],\n",
       "       [103.      ],\n",
       "       [118.959999],\n",
       "       [121.07    ],\n",
       "       [122.089996],\n",
       "       [122.559998],\n",
       "       [116.550003],\n",
       "       [125.699997],\n",
       "       [136.559998],\n",
       "       [127.260002],\n",
       "       [128.679993],\n",
       "       [135.869995],\n",
       "       [143.      ],\n",
       "       [141.910004],\n",
       "       [159.970001],\n",
       "       [162.429993],\n",
       "       [178.050003],\n",
       "       [164.570007],\n",
       "       [173.889999],\n",
       "       [187.330002],\n",
       "       [183.949997],\n",
       "       [193.009995],\n",
       "       [196.429993],\n",
       "       [196.100006],\n",
       "       [207.779999],\n",
       "       [202.229996],\n",
       "       [194.419998],\n",
       "       [191.940002],\n",
       "       [211.759995],\n",
       "       [210.779999],\n",
       "       [199.990005],\n",
       "       [204.990005],\n",
       "       [197.929993],\n",
       "       [203.910004],\n",
       "       [196.330002],\n",
       "       [202.029999],\n",
       "       [210.589996],\n",
       "       [206.210007],\n",
       "       [186.740005],\n",
       "       [194.800003],\n",
       "       [198.539993],\n",
       "       [191.380005],\n",
       "       [185.039993],\n",
       "       [180.25    ],\n",
       "       [175.130005],\n",
       "       [167.460007],\n",
       "       [177.309998],\n",
       "       [180.800003],\n",
       "       [180.369995],\n",
       "       [184.520004],\n",
       "       [178.080002],\n",
       "       [188.279999],\n",
       "       [199.300003],\n",
       "       [195.259995],\n",
       "       [191.649994],\n",
       "       [194.419998],\n",
       "       [192.      ],\n",
       "       [193.130005],\n",
       "       [195.580002],\n",
       "       [197.529999],\n",
       "       [199.910004],\n",
       "       [197.320007],\n",
       "       [190.520004],\n",
       "       [183.080002],\n",
       "       [179.940002],\n",
       "       [186.690002],\n",
       "       [190.740005],\n",
       "       [182.960007],\n",
       "       [183.949997],\n",
       "       [186.320007],\n",
       "       [187.149994],\n",
       "       [179.100006],\n",
       "       [166.169998],\n",
       "       [164.800003],\n",
       "       [164.649994],\n",
       "       [159.820007],\n",
       "       [160.289993],\n",
       "       [152.639999],\n",
       "       [160.899994],\n",
       "       [163.169998],\n",
       "       [161.880005],\n",
       "       [160.009995],\n",
       "       [162.710007],\n",
       "       [163.970001],\n",
       "       [173.720001],\n",
       "       [168.949997],\n",
       "       [172.550003],\n",
       "       [168.699997],\n",
       "       [176.070007],\n",
       "       [167.660004],\n",
       "       [165.649994],\n",
       "       [168.410004],\n",
       "       [174.220001],\n",
       "       [177.169998],\n",
       "       [180.699997],\n",
       "       [186.199997],\n",
       "       [182.229996],\n",
       "       [186.539993],\n",
       "       [184.619995],\n",
       "       [200.100006],\n",
       "       [199.779999],\n",
       "       [202.589996],\n",
       "       [210.149994],\n",
       "       [217.800003],\n",
       "       [216.139999],\n",
       "       [228.      ],\n",
       "       [224.220001],\n",
       "       [249.070007],\n",
       "       [247.940002],\n",
       "       [253.509995],\n",
       "       [260.170013],\n",
       "       [248.399994],\n",
       "       [258.920013],\n",
       "       [261.5     ],\n",
       "       [275.130005]])"
      ]
     },
     "execution_count": 43,
     "metadata": {},
     "output_type": "execute_result"
    }
   ],
   "source": [
    "real_stock_price"
   ]
  },
  {
   "cell_type": "code",
   "execution_count": 51,
   "id": "d8f9289a",
   "metadata": {},
   "outputs": [
    {
     "name": "stdout",
     "output_type": "stream",
     "text": [
      "8/8 [==============================] - 0s 47ms/step\n"
     ]
    }
   ],
   "source": [
    "# Getting the predicted stock price of 2017\n",
    "# We need to get the predicted stock price of 2017 using the stock price values from 2012 to 2016.\n",
    "# We concatenate the training and test set stock price values.\n",
    "dataset_total = pd.concat((training_data['Open'], test_data['Open']), axis = 0)\n",
    "\n",
    "# We get the inputs, the inputs are the stock prices from 2012 to 2016.\n",
    "inputs = dataset_total[len(dataset_total) - len(test_data) - 60:].values\n",
    "\n",
    "# We need to reshape the data to add a new dimension to it, which is required for the LSTM's input.\n",
    "# The new dimension will be the number of predictors. The number of predictors is 1.\n",
    "inputs = inputs.reshape(-1,1)\n",
    "\n",
    "# We scale the inputs to be values between 0 and 1 inclusive.\n",
    "inputs = sc.transform(inputs)\n",
    "\n",
    "# We create a data structure with 60 timesteps and 1 output.\n",
    "X_test = []\n",
    "\n",
    "for i in range(60, 310):  # Change upper limit to 80\n",
    "    X_test.append(inputs[i-60:i, 0])\n",
    "\n",
    "# Convert the X_test to a numpy array\n",
    "X_test = np.array(X_test)\n",
    "\n",
    "# Reshaping the dataset\n",
    "# We need to reshape the data to add a new dimension to it, which is required for the LSTM's input.\n",
    "# The new dimension will be the number of predictors. The number of predictors is 1.\n",
    "X_test = np.reshape(X_test, (X_test.shape[0], X_test.shape[1], 1))\n",
    "\n",
    "# We get the predicted stock price values for 2017.\n",
    "predicted_stock_price = model.predict(X_test)\n",
    "predicted_stock_price = sc.inverse_transform(predicted_stock_price)\n",
    "\n"
   ]
  },
  {
   "cell_type": "code",
   "execution_count": 52,
   "id": "99b21524",
   "metadata": {},
   "outputs": [
    {
     "name": "stdout",
     "output_type": "stream",
     "text": [
      "[229.46332]\n",
      "[230.5]\n"
     ]
    },
    {
     "data": {
      "text/plain": [
       "(None, None)"
      ]
     },
     "execution_count": 52,
     "metadata": {},
     "output_type": "execute_result"
    }
   ],
   "source": [
    "print(predicted_stock_price[5]), print(real_stock_price[5])"
   ]
  },
  {
   "cell_type": "code",
   "execution_count": 55,
   "id": "3a9ea07f",
   "metadata": {},
   "outputs": [
    {
     "data": {
      "image/png": "[encoded data removed]",
      "text/plain": [
       "<Figure size 640x480 with 1 Axes>"
      ]
     },
     "metadata": {},
     "output_type": "display_data"
    }
   ],
   "source": [
    "# Visualising the results\n",
    "# We will use matplotlib to visualise the results.\n",
    "plt.plot(real_stock_price, color = 'green', label = 'Tesla Stock Price')\n",
    "plt.plot(predicted_stock_price, color = 'red', label = 'Predicted Tesla Stock Price')\n",
    "plt.title('Tesla Stock Price Prediction')\n",
    "plt.xlabel('Time')\n",
    "plt.ylabel('Tesla Stock Price')\n",
    "plt.legend()\n",
    "plt.show()\n",
    "\n"
   ]
  },
  {
   "cell_type": "code",
   "execution_count": 56,
   "id": "6aae4f6e",
   "metadata": {},
   "outputs": [
    {
     "name": "stdout",
     "output_type": "stream",
     "text": [
      "RMSE: 1.0366799999999898\n"
     ]
    }
   ],
   "source": [
    "# Evaluating the RNN\n",
    "# We will use the RMSE metric to evaluate the performance of the RNN model.\n",
    "import math\n",
    "import numpy as np\n",
    "from sklearn.metrics import mean_squared_error\n",
    "\n",
    "# Assuming you have numpy arrays for real_stock_price and predicted_stock_price\n",
    "real_stock_price = np.array([ 230.5 ]) \n",
    "predicted_stock_price = np.array([229.46332])\n",
    "\n",
    "# Ensure the arrays have the same number of elements\n",
    "if len(real_stock_price) == len(predicted_stock_price):\n",
    "    rmse = math.sqrt(mean_squared_error(real_stock_price, predicted_stock_price))\n",
    "    print(\"RMSE:\", rmse)\n",
    "else:\n",
    "    print(\"Error: The number of elements in the arrays doesn't match.\")\n"
   ]
  },
  {
   "cell_type": "code",
   "execution_count": null,
   "id": "52707da2",
   "metadata": {},
   "outputs": [],
   "source": [
    "# RMSE: 1.0366808139073182\n",
    "# The RMSE value is close to 0, so the model is good."
   ]
  }
 ],
 "metadata": {
  "kernelspec": {
   "display_name": "Python 3 (ipykernel)",
   "language": "python",
   "name": "python3"
  },
  "language_info": {
   "codemirror_mode": {
    "name": "ipython",
    "version": 3
   },
   "file_extension": ".py",
   "mimetype": "text/x-python",
   "name": "python",
   "nbconvert_exporter": "python",
   "pygments_lexer": "ipython3",
   "version": "3.10.9"
  }
 },
 "nbformat": 4,
 "nbformat_minor": 5
}
